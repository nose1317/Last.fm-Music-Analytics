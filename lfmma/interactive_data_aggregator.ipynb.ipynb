{
 "cells": [
  {
   "cell_type": "code",
   "execution_count": 15,
   "id": "50f42dac-d568-4e69-8c6e-85eb27c9a3e8",
   "metadata": {},
   "outputs": [],
   "source": [
    "import sqlite3\n",
    "import pandas as pd\n",
    "import matplotlib.pyplot as plt\n",
    "import seaborn as sns\n",
    "from ipywidgets import HBox, VBox, interact, widgets\n",
    "from IPython.display import display\n",
    "from matplotlib import rcParams\n",
    "import warnings"
   ]
  },
  {
   "cell_type": "code",
   "execution_count": 16,
   "id": "414f166f-c32a-4107-b2ec-7adecfcfd4a2",
   "metadata": {},
   "outputs": [],
   "source": [
    "warnings.filterwarnings(\"ignore\", category=UserWarning, message=\".*missing from font.*\")\n",
    "rcParams['font.family'] = 'DejaVu Sans'\n",
    "sns.set_theme() "
   ]
  },
  {
   "cell_type": "code",
   "execution_count": 17,
   "id": "1b86c490-6738-42a7-9aaf-f74d6ed9cac4",
   "metadata": {},
   "outputs": [],
   "source": [
    "# Load data from SQLite database\n",
    "def load_data():\n",
    "    conn = sqlite3.connect('songs_data.db')\n",
    "\n",
    "    # Updated query to join with the tables in the new schema\n",
    "    query = '''\n",
    "    SELECT \n",
    "        u.username,\n",
    "        s.song_name,\n",
    "        a.artist_name,\n",
    "        h.liked,\n",
    "        h.date,\n",
    "        strftime('%Y', h.date) AS year,\n",
    "        strftime('%m', h.date) AS month,\n",
    "        strftime('%d', h.date) AS day,\n",
    "        strftime('%H', h.date) AS hour,\n",
    "        h.day_name\n",
    "    FROM history h\n",
    "    JOIN users u ON h.user_id = u.id\n",
    "    JOIN songs s ON h.song_id = s.id\n",
    "    JOIN artists a ON s.artist_id = a.id\n",
    "    '''\n",
    "    df = pd.read_sql_query(query, conn)\n",
    "    conn.close()\n",
    "\n",
    "    # Convert date to datetime for filtering\n",
    "    df['date'] = pd.to_datetime(df['date'], format='%Y-%m-%d %H:%M:%S')\n",
    "\n",
    "    # Convert 'year', 'month', 'day', and 'hour' columns to integers\n",
    "    df['year'] = df['year'].astype(int)\n",
    "    df['month'] = df['month'].astype(int)\n",
    "    df['day'] = df['day'].astype(int)\n",
    "    df['hour'] = df['hour'].astype(int)\n",
    "    \n",
    "    return df\n",
    "    \n",
    "df = load_data()"
   ]
  },
  {
   "cell_type": "code",
   "execution_count": 20,
   "id": "3af592c6-2344-4f61-99cc-c95ffb23f84d",
   "metadata": {},
   "outputs": [
    {
     "data": {
      "application/vnd.jupyter.widget-view+json": {
       "model_id": "128d6034573544bdb589d9c86e85a817",
       "version_major": 2,
       "version_minor": 0
      },
      "text/plain": [
       "VBox(children=(HBox(children=(Dropdown(description='Aggregate by:', options=('song', 'artist', 'month', 'year'…"
      ]
     },
     "metadata": {},
     "output_type": "display_data"
    },
    {
     "data": {
      "application/vnd.jupyter.widget-view+json": {
       "model_id": "eba6ed0e77d04c539917ff03081feaff",
       "version_major": 2,
       "version_minor": 0
      },
      "text/plain": [
       "Output()"
      ]
     },
     "metadata": {},
     "output_type": "display_data"
    }
   ],
   "source": [
    "# Function to aggregate and visualize data\n",
    "def visualize_data(aggregation='song', month=None, year=None, hour=None, user=None, liked=None, artist=None, day_number=None):\n",
    "    # Load the data (make sure to call the load_data function)\n",
    "    df = load_data()\n",
    "\n",
    "    # Apply filters if specified\n",
    "    if day_number is not None:\n",
    "        # Ensure day_number is a tuple of two integers\n",
    "        day_start, day_end = day_number\n",
    "        if isinstance(day_start, int) and isinstance(day_end, int):\n",
    "            df = df[(df['day'] >= day_start) & (df['day'] <= day_end)]\n",
    "    \n",
    "    if month:\n",
    "        df = df[(df['month'] >= month[0]) & (df['month'] <= month[1])]\n",
    "    if year:\n",
    "        df = df[(df['year'] >= year[0]) & (df['year'] <= year[1])]\n",
    "    if hour:\n",
    "        df = df[(df['hour'] >= hour[0]) & (df['hour'] <= hour[1])]\n",
    "    if user:\n",
    "        df = df[df['username'] == user]\n",
    "    if liked is not None:  # Check for True/False values\n",
    "        df = df[df['liked'] == liked]\n",
    "    if artist:\n",
    "        df = df[df['artist_name'].str.contains(artist, na=False, case=False)]\n",
    "\n",
    "    # Aggregation logic\n",
    "    if aggregation == 'song':\n",
    "        result = df.groupby('song_name').size().sort_values(ascending=False).head(10)\n",
    "    elif aggregation == 'artist':\n",
    "        result = df.groupby('artist_name').size().sort_values(ascending=False).head(10)\n",
    "    elif aggregation == 'month':\n",
    "        result = df.groupby('month').size().sort_values(ascending=False).head(10)\n",
    "    elif aggregation == 'year':\n",
    "        result = df.groupby('year').size().sort_values(ascending=False).head(10)\n",
    "    elif aggregation == 'liked':\n",
    "        result = df.groupby('liked').size().sort_values(ascending=False).head(10)\n",
    "    elif aggregation == 'hour':\n",
    "        result = df.groupby('hour').size().sort_values(ascending=False).head(10)\n",
    "    elif aggregation == 'day_name':\n",
    "        result = df.groupby('day_name').size().sort_values(ascending=False).head(10)\n",
    "    else:\n",
    "        result = pd.Series(dtype=int)  # Empty result for invalid aggregation\n",
    "\n",
    "    # Plot the results\n",
    "    if not result.empty:\n",
    "        plt.figure(figsize=(10, 6))\n",
    "        result.plot(kind='bar', color='skyblue')\n",
    "        plt.title(f\"Top {aggregation.capitalize()}s\")\n",
    "        plt.ylabel(\"Count\")\n",
    "        plt.xlabel(aggregation.capitalize())\n",
    "        plt.xticks(rotation=45)\n",
    "        plt.grid(axis='y', linestyle='--', alpha=0.7)\n",
    "        plt.show()\n",
    "    else:\n",
    "        print(\"No data to display for the given filters.\")\n",
    "\n",
    "    # Display the aggregated data as output\n",
    "    display(result)\n",
    "\n",
    "   \n",
    "# Interactive widget for visualization\n",
    "def create_interactive_visualization():\n",
    "    # Create the interactive widgets\n",
    "    users = [None] + sorted(load_data()['username'].unique().tolist())\n",
    "\n",
    "    aggregation = widgets.Dropdown(options=['song', 'artist', 'month', 'year', 'liked', 'day_name', 'hour'], \n",
    "                                   value='song', description='Aggregate by:')\n",
    "    day_number = widgets.IntRangeSlider(value=[1, 31], min=1, max=31, step=1, description='Day range:')\n",
    "    month = widgets.IntRangeSlider(value=[1, 12], min=1, max=12, step=1, description='Month range:')\n",
    "    year = widgets.IntRangeSlider(value=[2020, 2024], min=2020, max=2024, step=1, description='Year range:')\n",
    "    hour = widgets.IntRangeSlider(value=[0, 23], min=0, max=23, step=1, description='Hour range:')\n",
    "    user = widgets.Dropdown(options=users, description='User:')\n",
    "    liked = widgets.Dropdown(options=[None, True, False], description='Liked:')\n",
    "    artist = widgets.Text(placeholder=\"Type artist name...\", description=\"Artist:\")\n",
    "\n",
    "    # Arrange widgets horizontally\n",
    "    widget_row1 = HBox([aggregation, day_number, month])\n",
    "    widget_row2 = HBox([year, hour, user])\n",
    "    widget_row3 = HBox([liked, artist])\n",
    "    \n",
    "    # Combine all rows vertically\n",
    "    ui = VBox([widget_row1, widget_row2, widget_row3])\n",
    "    \n",
    "    # Link the UI with the function\n",
    "    out = widgets.interactive_output(\n",
    "        visualize_data, \n",
    "        {'aggregation': aggregation, 'day_number': day_number, 'month': month, \n",
    "         'year': year, 'hour': hour, 'user': user, 'liked': liked, 'artist': artist}\n",
    "    )\n",
    "    \n",
    "    # Display the UI and output\n",
    "    display(ui, out)\n",
    "\n",
    "# Call the function to create the interactive visualization\n",
    "create_interactive_visualization()\n"
   ]
  },
  {
   "cell_type": "code",
   "execution_count": null,
   "id": "c6cd4e03-7175-4c58-8075-815b1fe6e72e",
   "metadata": {},
   "outputs": [],
   "source": []
  }
 ],
 "metadata": {
  "kernelspec": {
   "display_name": "Python 3 (ipykernel)",
   "language": "python",
   "name": "python3"
  },
  "language_info": {
   "codemirror_mode": {
    "name": "ipython",
    "version": 3
   },
   "file_extension": ".py",
   "mimetype": "text/x-python",
   "name": "python",
   "nbconvert_exporter": "python",
   "pygments_lexer": "ipython3",
   "version": "3.10.2"
  }
 },
 "nbformat": 4,
 "nbformat_minor": 5
}
